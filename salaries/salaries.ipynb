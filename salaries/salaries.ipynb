{
 "cells": [
  {
   "cell_type": "markdown",
   "metadata": {
    "id": "YtIzhB9csmnc"
   },
   "source": [
    "# Описание данных\n",
    "\n",
    "Вам представлены данные о доходах сотрудников участка горячего проката за год, в том числе данные, описывающие специфику рабочих мест.\n",
    "\n",
    "# Задание\n",
    "*\tВыявите тип и формулу зависимости оклада, премии и доплат от приведенных в таблице данных\n",
    "*\tВыявите все возможные зависимости между размерами оклада, премии и доплат\n"
   ]
  },
  {
   "cell_type": "markdown",
   "metadata": {
    "id": "9Q1DNexyBqm2"
   },
   "source": [
    "# Формулы зависимости оклада, премии и доплат"
   ]
  },
  {
   "cell_type": "code",
   "execution_count": 89,
   "metadata": {
    "id": "NrZM0Iqxrzih"
   },
   "outputs": [],
   "source": [
    "#Загрузим библиотеки\n",
    "import pandas as pd\n",
    "import matplotlib.pyplot as plt\n",
    "import seaborn as sns\n",
    "import numpy as np\n",
    "import math"
   ]
  },
  {
   "cell_type": "code",
   "execution_count": 22,
   "metadata": {
    "id": "tMgC-8wTsAH1"
   },
   "outputs": [],
   "source": [
    "#Считаем данные\n",
    "data = pd.read_excel('/content/drive/MyDrive/data.xlsx')"
   ]
  },
  {
   "cell_type": "code",
   "execution_count": 23,
   "metadata": {
    "colab": {
     "base_uri": "https://localhost:8080/",
     "height": 606
    },
    "id": "GXCAKvmvsXP2",
    "outputId": "2e4bb985-db5a-4eed-e4bc-b5fb85f26be4"
   },
   "outputs": [
    {
     "data": {
      "text/html": [
       "<div>\n",
       "<style scoped>\n",
       "    .dataframe tbody tr th:only-of-type {\n",
       "        vertical-align: middle;\n",
       "    }\n",
       "\n",
       "    .dataframe tbody tr th {\n",
       "        vertical-align: top;\n",
       "    }\n",
       "\n",
       "    .dataframe thead th {\n",
       "        text-align: right;\n",
       "    }\n",
       "</style>\n",
       "<table border=\"1\" class=\"dataframe\">\n",
       "  <thead>\n",
       "    <tr style=\"text-align: right;\">\n",
       "      <th></th>\n",
       "      <th>Месяц</th>\n",
       "      <th>Профессия</th>\n",
       "      <th>Разряд</th>\n",
       "      <th>Оборудование</th>\n",
       "      <th>Вредность (балл.)</th>\n",
       "      <th>Объем производства</th>\n",
       "      <th>Доход</th>\n",
       "    </tr>\n",
       "  </thead>\n",
       "  <tbody>\n",
       "    <tr>\n",
       "      <th>0</th>\n",
       "      <td>2009-01-01</td>\n",
       "      <td>Нагревальщик металла</td>\n",
       "      <td>7</td>\n",
       "      <td>Нагревательные печи</td>\n",
       "      <td>22</td>\n",
       "      <td>580</td>\n",
       "      <td>26020.000000</td>\n",
       "    </tr>\n",
       "    <tr>\n",
       "      <th>1</th>\n",
       "      <td>2009-01-01</td>\n",
       "      <td>Нагревальщик металла</td>\n",
       "      <td>6</td>\n",
       "      <td>Нагревательные печи</td>\n",
       "      <td>22</td>\n",
       "      <td>580</td>\n",
       "      <td>22980.000000</td>\n",
       "    </tr>\n",
       "    <tr>\n",
       "      <th>2</th>\n",
       "      <td>2009-01-01</td>\n",
       "      <td>Нагревальщик металла</td>\n",
       "      <td>5</td>\n",
       "      <td>Нагревательные печи, нагрев</td>\n",
       "      <td>22</td>\n",
       "      <td>580</td>\n",
       "      <td>20350.000000</td>\n",
       "    </tr>\n",
       "    <tr>\n",
       "      <th>3</th>\n",
       "      <td>2009-01-01</td>\n",
       "      <td>Нагревальщик металла</td>\n",
       "      <td>5</td>\n",
       "      <td>Нагревательные печи, кантовка</td>\n",
       "      <td>22</td>\n",
       "      <td>580</td>\n",
       "      <td>20350.000000</td>\n",
       "    </tr>\n",
       "    <tr>\n",
       "      <th>4</th>\n",
       "      <td>2009-01-01</td>\n",
       "      <td>Нагревальщик металла</td>\n",
       "      <td>4</td>\n",
       "      <td>Нагревательные печи</td>\n",
       "      <td>22</td>\n",
       "      <td>580</td>\n",
       "      <td>18090.000000</td>\n",
       "    </tr>\n",
       "    <tr>\n",
       "      <th>...</th>\n",
       "      <td>...</td>\n",
       "      <td>...</td>\n",
       "      <td>...</td>\n",
       "      <td>...</td>\n",
       "      <td>...</td>\n",
       "      <td>...</td>\n",
       "      <td>...</td>\n",
       "    </tr>\n",
       "    <tr>\n",
       "      <th>259</th>\n",
       "      <td>2009-08-01</td>\n",
       "      <td>Контролер качества готовой продукции</td>\n",
       "      <td>7</td>\n",
       "      <td>Контрольно-измерительная аппаратура</td>\n",
       "      <td>0</td>\n",
       "      <td>1180</td>\n",
       "      <td>26342.235294</td>\n",
       "    </tr>\n",
       "    <tr>\n",
       "      <th>260</th>\n",
       "      <td>2009-09-01</td>\n",
       "      <td>Контролер качества готовой продукции</td>\n",
       "      <td>7</td>\n",
       "      <td>Контрольно-измерительная аппаратура</td>\n",
       "      <td>0</td>\n",
       "      <td>1080</td>\n",
       "      <td>25044.588235</td>\n",
       "    </tr>\n",
       "    <tr>\n",
       "      <th>261</th>\n",
       "      <td>2009-10-01</td>\n",
       "      <td>Контролер качества готовой продукции</td>\n",
       "      <td>7</td>\n",
       "      <td>Контрольно-измерительная аппаратура</td>\n",
       "      <td>0</td>\n",
       "      <td>780</td>\n",
       "      <td>22060.000000</td>\n",
       "    </tr>\n",
       "    <tr>\n",
       "      <th>262</th>\n",
       "      <td>2009-11-01</td>\n",
       "      <td>Контролер качества готовой продукции</td>\n",
       "      <td>7</td>\n",
       "      <td>Контрольно-измерительная аппаратура</td>\n",
       "      <td>0</td>\n",
       "      <td>1020</td>\n",
       "      <td>24266.000000</td>\n",
       "    </tr>\n",
       "    <tr>\n",
       "      <th>263</th>\n",
       "      <td>2009-12-01</td>\n",
       "      <td>Контролер качества готовой продукции</td>\n",
       "      <td>7</td>\n",
       "      <td>Контрольно-измерительная аппаратура</td>\n",
       "      <td>0</td>\n",
       "      <td>810</td>\n",
       "      <td>22060.000000</td>\n",
       "    </tr>\n",
       "  </tbody>\n",
       "</table>\n",
       "<p>264 rows × 7 columns</p>\n",
       "</div>"
      ],
      "text/plain": [
       "         Месяц  ...         Доход\n",
       "0   2009-01-01  ...  26020.000000\n",
       "1   2009-01-01  ...  22980.000000\n",
       "2   2009-01-01  ...  20350.000000\n",
       "3   2009-01-01  ...  20350.000000\n",
       "4   2009-01-01  ...  18090.000000\n",
       "..         ...  ...           ...\n",
       "259 2009-08-01  ...  26342.235294\n",
       "260 2009-09-01  ...  25044.588235\n",
       "261 2009-10-01  ...  22060.000000\n",
       "262 2009-11-01  ...  24266.000000\n",
       "263 2009-12-01  ...  22060.000000\n",
       "\n",
       "[264 rows x 7 columns]"
      ]
     },
     "execution_count": 23,
     "metadata": {
      "tags": []
     },
     "output_type": "execute_result"
    }
   ],
   "source": [
    "#Посмотрим на сами данные\n",
    "data"
   ]
  },
  {
   "cell_type": "markdown",
   "metadata": {
    "id": "aWUtA5aX0qra"
   },
   "source": [
    "1. Так как доход сотрудников состоит из оклада, премии и доплат, которые необходимо определить, то он является целевой переменной.\n",
    "$$Доход = Оклад + Премия + Доплата$$\n",
    "\n",
    "2. Количественным признаком является `Разряд`,`Объем производства`, `Вредность (балл.)` порядковым - `Месяц`.\n",
    "3. К категориальным признакам относятся все остальные. "
   ]
  },
  {
   "cell_type": "code",
   "execution_count": 68,
   "metadata": {
    "id": "23gAsfku2fFW"
   },
   "outputs": [],
   "source": [
    "#Добавим специализацию в зависимости от всех категориальных признаков\n",
    "data['Специалист'] = data['Профессия'] + data['Разряд'] + data['Оборудование'] +  \n",
    "         [str(data['Вредность (балл.)'][i]) for i in range(len(data['Вредность (балл.)']))]"
   ]
  },
  {
   "cell_type": "code",
   "execution_count": 25,
   "metadata": {
    "colab": {
     "base_uri": "https://localhost:8080/",
     "height": 381
    },
    "id": "S0gkoe_tLFik",
    "outputId": "692792e0-f072-455a-d1b7-5d33117460bd"
   },
   "outputs": [
    {
     "data": {
      "text/plain": [
       "<matplotlib.legend.Legend at 0x7faa4af39150>"
      ]
     },
     "execution_count": 25,
     "metadata": {
      "tags": []
     },
     "output_type": "execute_result"
    },
    {
     "data": {
      "image/png": "[encoded data removed]",
      "text/plain": [
       "<Figure size 432x288 with 1 Axes>"
      ]
     },
     "metadata": {
      "needs_background": "light",
      "tags": []
     },
     "output_type": "display_data"
    }
   ],
   "source": [
    "data  = data.sort_values(by='Месяц')\n",
    "data = data.reset_index(drop=True)\n",
    "outcomes = data['Объем производства'].to_numpy().reshape(12,22)\n",
    "dates = data['Месяц'].unique()\n",
    "graph1 = pd.DataFrame(outcomes,dates,columns=data['Специалист'].unique())\n",
    "sns.lineplot(data=graph1, palette=\"tab10\", linewidth=2.5)\n",
    "\n",
    "plt.legend(bbox_to_anchor=(1.05, 1), loc=2, borderaxespad=0.)"
   ]
  },
  {
   "cell_type": "markdown",
   "metadata": {
    "id": "qs42AWvqKMC2"
   },
   "source": [
    "Объем производства совпадает у всех категорий профессий в каждом месяце."
   ]
  },
  {
   "cell_type": "code",
   "execution_count": 26,
   "metadata": {
    "colab": {
     "base_uri": "https://localhost:8080/",
     "height": 204
    },
    "id": "ZvTKCdqtPpKP",
    "outputId": "781bf75c-f034-43b5-c21b-364a23c9f09f"
   },
   "outputs": [
    {
     "data": {
      "text/html": [
       "<div>\n",
       "<style scoped>\n",
       "    .dataframe tbody tr th:only-of-type {\n",
       "        vertical-align: middle;\n",
       "    }\n",
       "\n",
       "    .dataframe tbody tr th {\n",
       "        vertical-align: top;\n",
       "    }\n",
       "\n",
       "    .dataframe thead th {\n",
       "        text-align: right;\n",
       "    }\n",
       "</style>\n",
       "<table border=\"1\" class=\"dataframe\">\n",
       "  <thead>\n",
       "    <tr style=\"text-align: right;\">\n",
       "      <th></th>\n",
       "      <th>Месяц</th>\n",
       "      <th>Профессия</th>\n",
       "      <th>Разряд</th>\n",
       "      <th>Оборудование</th>\n",
       "      <th>Вредность (балл.)</th>\n",
       "      <th>Объем производства</th>\n",
       "      <th>Доход</th>\n",
       "      <th>Специалист</th>\n",
       "    </tr>\n",
       "  </thead>\n",
       "  <tbody>\n",
       "    <tr>\n",
       "      <th>1</th>\n",
       "      <td>2009-01-01</td>\n",
       "      <td>Уборщик</td>\n",
       "      <td>3</td>\n",
       "      <td>Вспомогательные помещения</td>\n",
       "      <td>0</td>\n",
       "      <td>580</td>\n",
       "      <td>12180.0</td>\n",
       "      <td>Уборщик3Вспомогательные помещения0</td>\n",
       "    </tr>\n",
       "    <tr>\n",
       "      <th>24</th>\n",
       "      <td>2009-02-01</td>\n",
       "      <td>Уборщик</td>\n",
       "      <td>3</td>\n",
       "      <td>Вспомогательные помещения</td>\n",
       "      <td>0</td>\n",
       "      <td>790</td>\n",
       "      <td>12180.0</td>\n",
       "      <td>Уборщик3Вспомогательные помещения0</td>\n",
       "    </tr>\n",
       "    <tr>\n",
       "      <th>52</th>\n",
       "      <td>2009-03-01</td>\n",
       "      <td>Уборщик</td>\n",
       "      <td>3</td>\n",
       "      <td>Вспомогательные помещения</td>\n",
       "      <td>0</td>\n",
       "      <td>820</td>\n",
       "      <td>12180.0</td>\n",
       "      <td>Уборщик3Вспомогательные помещения0</td>\n",
       "    </tr>\n",
       "    <tr>\n",
       "      <th>204</th>\n",
       "      <td>2009-10-01</td>\n",
       "      <td>Уборщик</td>\n",
       "      <td>3</td>\n",
       "      <td>Вспомогательные помещения</td>\n",
       "      <td>0</td>\n",
       "      <td>780</td>\n",
       "      <td>12180.0</td>\n",
       "      <td>Уборщик3Вспомогательные помещения0</td>\n",
       "    </tr>\n",
       "    <tr>\n",
       "      <th>242</th>\n",
       "      <td>2009-12-01</td>\n",
       "      <td>Уборщик</td>\n",
       "      <td>3</td>\n",
       "      <td>Вспомогательные помещения</td>\n",
       "      <td>0</td>\n",
       "      <td>810</td>\n",
       "      <td>12180.0</td>\n",
       "      <td>Уборщик3Вспомогательные помещения0</td>\n",
       "    </tr>\n",
       "  </tbody>\n",
       "</table>\n",
       "</div>"
      ],
      "text/plain": [
       "         Месяц Профессия  ...    Доход                          Специалист\n",
       "1   2009-01-01   Уборщик  ...  12180.0  Уборщик3Вспомогательные помещения0\n",
       "24  2009-02-01   Уборщик  ...  12180.0  Уборщик3Вспомогательные помещения0\n",
       "52  2009-03-01   Уборщик  ...  12180.0  Уборщик3Вспомогательные помещения0\n",
       "204 2009-10-01   Уборщик  ...  12180.0  Уборщик3Вспомогательные помещения0\n",
       "242 2009-12-01   Уборщик  ...  12180.0  Уборщик3Вспомогательные помещения0\n",
       "\n",
       "[5 rows x 8 columns]"
      ]
     },
     "execution_count": 26,
     "metadata": {
      "tags": []
     },
     "output_type": "execute_result"
    }
   ],
   "source": [
    "data[data['Доход']==min(data['Доход'])]"
   ]
  },
  {
   "cell_type": "markdown",
   "metadata": {
    "id": "Se8gSS8sB0-2"
   },
   "source": [
    "## Оклад"
   ]
  },
  {
   "cell_type": "code",
   "execution_count": 27,
   "metadata": {
    "id": "iMYvkx79TSIY"
   },
   "outputs": [],
   "source": [
    "salary = min(data['Доход'])\n",
    "data['Оклад'] = salary"
   ]
  },
  {
   "cell_type": "markdown",
   "metadata": {
    "id": "d7-LziWIRCj_"
   },
   "source": [
    "Так как минимальный доход у уборщика 3 разряда с рейтингом вредности 0 баллов, то примем это значение дохода как стартовый размер оклада (переменная `salary`).\n",
    "Следовательно формула оклада:\n",
    "\n",
    "$$Оклад = 12180 - минимальное\\ значение\\ дохода\\ (т.е. без\\ каких-либо\\ премий\\ и\\ доплат)\n",
    "$$\n",
    "\n",
    "## Доплаты\n",
    "Для того, чтобы определить типы доплат, рассмотрим подвыборку профессий `Нагревальщик металлов`, которые различаются только в разряде.\n"
   ]
  },
  {
   "cell_type": "code",
   "execution_count": 28,
   "metadata": {
    "id": "1nf_9X9WIsuh"
   },
   "outputs": [],
   "source": [
    "data1 = data[data['Профессия']=='Нагревальщик металла']\n",
    "data1 = data1.sort_values(by=['Месяц','Разряд'])"
   ]
  },
  {
   "cell_type": "code",
   "execution_count": 29,
   "metadata": {
    "colab": {
     "base_uri": "https://localhost:8080/",
     "height": 282
    },
    "id": "NV9AEp3Mb6CK",
    "outputId": "16e97e50-9057-485a-87d1-a2f87b6a2d85"
   },
   "outputs": [
    {
     "data": {
      "text/plain": [
       "<matplotlib.legend.Legend at 0x7faa44ea3dd0>"
      ]
     },
     "execution_count": 29,
     "metadata": {
      "tags": []
     },
     "output_type": "execute_result"
    },
    {
     "data": {
      "image/png": "[encoded data removed]",
      "text/plain": [
       "<Figure size 432x288 with 1 Axes>"
      ]
     },
     "metadata": {
      "needs_background": "light",
      "tags": []
     },
     "output_type": "display_data"
    }
   ],
   "source": [
    "#Для каждого специалиста выведем график доходов:\n",
    "incomes = data1['Доход'].to_numpy().reshape((-1,len(data1['Специалист'].unique())))\n",
    "dates = data1['Месяц'].unique()\n",
    "graph1 = pd.DataFrame(incomes,dates,columns=data1['Специалист'].unique())\n",
    "sns.lineplot(data=graph1, palette=\"tab10\", linewidth=2.5)\n",
    "plt.legend(bbox_to_anchor=(1.05, 1), loc=2, borderaxespad=0.)"
   ]
  },
  {
   "cell_type": "markdown",
   "metadata": {
    "id": "LYfii4kgSHSj"
   },
   "source": [
    "1. Характер кривых у специалистов разных разрядов идентичный, следовательно за повышение разряда полагается фиксированная доплата, причем с каждым повышением разряда доплата выше.\n",
    "2. У специалистов одного разряда, работающих на разном оборудовании одинаковый доход, следовательно, переменная `Оборудование` не влияет на уровень дохода.\n",
    "3. Минимальный доход у всех категорий специалистов с января по март, а также в в октябре и декабре. Если взглянуть на график объема производства, данные точки также являются наименьшими, что позволяет предположить, что в эти месяцы не предполагалось доплат, связанных с превышением объема производства."
   ]
  },
  {
   "cell_type": "code",
   "execution_count": 69,
   "metadata": {
    "colab": {
     "base_uri": "https://localhost:8080/",
     "height": 0
    },
    "id": "buRi4NegS6Vh",
    "outputId": "324f2797-acf5-4341-8f8c-163510ecd12f"
   },
   "outputs": [
    {
     "name": "stdout",
     "output_type": "stream",
     "text": [
      "3040.0 2630.0 2260.0\n"
     ]
    }
   ],
   "source": [
    "supplement7 = min(data[data['Специалист']=='Нагревальщик металла7Нагревательные печи22']['Доход'])-\n",
    "                 min(data[data['Специалист']=='Нагревальщик металла6Нагревательные печи22']['Доход'])\n",
    "supplement6 = min(data[data['Специалист']=='Нагревальщик металла6Нагревательные печи22']['Доход'])-\n",
    "                 min(data[data['Специалист']=='Нагревальщик металла5Нагревательные печи, кантовка22']['Доход'])\n",
    "supplement5 = min(data[data['Специалист']=='Нагревальщик металла5Нагревательные печи, кантовка22']['Доход'])-\n",
    "                 min(data[data['Специалист']=='Нагревальщик металла4Нагревательные печи22']['Доход'])\n",
    "print(supplement7,supplement6,supplement5)"
   ]
  },
  {
   "cell_type": "markdown",
   "metadata": {
    "id": "fPRBoFUQZzRL"
   },
   "source": [
    "Для того, чтобы определить доплату за 4 разряд, найдем профессию, в которой имеется 3 и 4 разряды, а также совпадают остальные категориальные признаки.\n",
    "\n",
    "Этим условиям удовлетворяет профессия `Подручный вальцовщика`. "
   ]
  },
  {
   "cell_type": "code",
   "execution_count": 31,
   "metadata": {
    "colab": {
     "base_uri": "https://localhost:8080/",
     "height": 359
    },
    "id": "EsRkQRswT2LB",
    "outputId": "6f0730ee-a740-499e-f4f3-e3424c16b895"
   },
   "outputs": [
    {
     "data": {
      "text/html": [
       "<div>\n",
       "<style scoped>\n",
       "    .dataframe tbody tr th:only-of-type {\n",
       "        vertical-align: middle;\n",
       "    }\n",
       "\n",
       "    .dataframe tbody tr th {\n",
       "        vertical-align: top;\n",
       "    }\n",
       "\n",
       "    .dataframe thead th {\n",
       "        text-align: right;\n",
       "    }\n",
       "</style>\n",
       "<table border=\"1\" class=\"dataframe\">\n",
       "  <thead>\n",
       "    <tr style=\"text-align: right;\">\n",
       "      <th></th>\n",
       "      <th>Месяц</th>\n",
       "      <th>Профессия</th>\n",
       "      <th>Разряд</th>\n",
       "      <th>Оборудование</th>\n",
       "      <th>Вредность (балл.)</th>\n",
       "      <th>Объем производства</th>\n",
       "      <th>Доход</th>\n",
       "      <th>Специалист</th>\n",
       "      <th>Оклад</th>\n",
       "    </tr>\n",
       "  </thead>\n",
       "  <tbody>\n",
       "    <tr>\n",
       "      <th>16</th>\n",
       "      <td>2009-01-01</td>\n",
       "      <td>Нагревальщик металла</td>\n",
       "      <td>4</td>\n",
       "      <td>Нагревательные печи</td>\n",
       "      <td>22</td>\n",
       "      <td>580</td>\n",
       "      <td>18090.0</td>\n",
       "      <td>Нагревальщик металла4Нагревательные печи22</td>\n",
       "      <td>12180.0</td>\n",
       "    </tr>\n",
       "    <tr>\n",
       "      <th>18</th>\n",
       "      <td>2009-01-01</td>\n",
       "      <td>Огнеупорщик</td>\n",
       "      <td>4</td>\n",
       "      <td>Нагревательные печи</td>\n",
       "      <td>11</td>\n",
       "      <td>580</td>\n",
       "      <td>16110.0</td>\n",
       "      <td>Огнеупорщик4Нагревательные печи11</td>\n",
       "      <td>12180.0</td>\n",
       "    </tr>\n",
       "    <tr>\n",
       "      <th>3</th>\n",
       "      <td>2009-01-01</td>\n",
       "      <td>Оператор поста управления</td>\n",
       "      <td>4</td>\n",
       "      <td>Калибровочный стан</td>\n",
       "      <td>8</td>\n",
       "      <td>580</td>\n",
       "      <td>15570.0</td>\n",
       "      <td>Оператор поста управления4Калибровочный стан8</td>\n",
       "      <td>12180.0</td>\n",
       "    </tr>\n",
       "    <tr>\n",
       "      <th>8</th>\n",
       "      <td>2009-01-01</td>\n",
       "      <td>Подручный вальцовщика</td>\n",
       "      <td>3</td>\n",
       "      <td>Пилигримовые станы</td>\n",
       "      <td>18</td>\n",
       "      <td>580</td>\n",
       "      <td>15420.0</td>\n",
       "      <td>Подручный вальцовщика3Пилигримовые станы18</td>\n",
       "      <td>12180.0</td>\n",
       "    </tr>\n",
       "    <tr>\n",
       "      <th>9</th>\n",
       "      <td>2009-01-01</td>\n",
       "      <td>Подручный вальцовщика</td>\n",
       "      <td>4</td>\n",
       "      <td>Пилигримовые станы</td>\n",
       "      <td>18</td>\n",
       "      <td>580</td>\n",
       "      <td>17370.0</td>\n",
       "      <td>Подручный вальцовщика4Пилигримовые станы18</td>\n",
       "      <td>12180.0</td>\n",
       "    </tr>\n",
       "    <tr>\n",
       "      <th>12</th>\n",
       "      <td>2009-01-01</td>\n",
       "      <td>Подручный вальцовщика</td>\n",
       "      <td>4</td>\n",
       "      <td>Прошивной стан</td>\n",
       "      <td>18</td>\n",
       "      <td>580</td>\n",
       "      <td>17370.0</td>\n",
       "      <td>Подручный вальцовщика4Прошивной стан18</td>\n",
       "      <td>12180.0</td>\n",
       "    </tr>\n",
       "    <tr>\n",
       "      <th>21</th>\n",
       "      <td>2009-01-01</td>\n",
       "      <td>Посадчик металла</td>\n",
       "      <td>4</td>\n",
       "      <td>Нагревательные печи</td>\n",
       "      <td>22</td>\n",
       "      <td>580</td>\n",
       "      <td>18090.0</td>\n",
       "      <td>Посадчик металла4Нагревательные печи22</td>\n",
       "      <td>12180.0</td>\n",
       "    </tr>\n",
       "    <tr>\n",
       "      <th>7</th>\n",
       "      <td>2009-01-01</td>\n",
       "      <td>Резчик горячего металла</td>\n",
       "      <td>4</td>\n",
       "      <td>Пилигримовые станы</td>\n",
       "      <td>16</td>\n",
       "      <td>580</td>\n",
       "      <td>17010.0</td>\n",
       "      <td>Резчик горячего металла4Пилигримовые станы16</td>\n",
       "      <td>12180.0</td>\n",
       "    </tr>\n",
       "    <tr>\n",
       "      <th>1</th>\n",
       "      <td>2009-01-01</td>\n",
       "      <td>Уборщик</td>\n",
       "      <td>3</td>\n",
       "      <td>Вспомогательные помещения</td>\n",
       "      <td>0</td>\n",
       "      <td>580</td>\n",
       "      <td>12180.0</td>\n",
       "      <td>Уборщик3Вспомогательные помещения0</td>\n",
       "      <td>12180.0</td>\n",
       "    </tr>\n",
       "    <tr>\n",
       "      <th>11</th>\n",
       "      <td>2009-01-01</td>\n",
       "      <td>Уборщик</td>\n",
       "      <td>3</td>\n",
       "      <td>Пилигримовые станы</td>\n",
       "      <td>18</td>\n",
       "      <td>580</td>\n",
       "      <td>15420.0</td>\n",
       "      <td>Уборщик3Пилигримовые станы18</td>\n",
       "      <td>12180.0</td>\n",
       "    </tr>\n",
       "  </tbody>\n",
       "</table>\n",
       "</div>"
      ],
      "text/plain": [
       "        Месяц  ...    Оклад\n",
       "16 2009-01-01  ...  12180.0\n",
       "18 2009-01-01  ...  12180.0\n",
       "3  2009-01-01  ...  12180.0\n",
       "8  2009-01-01  ...  12180.0\n",
       "9  2009-01-01  ...  12180.0\n",
       "12 2009-01-01  ...  12180.0\n",
       "21 2009-01-01  ...  12180.0\n",
       "7  2009-01-01  ...  12180.0\n",
       "1  2009-01-01  ...  12180.0\n",
       "11 2009-01-01  ...  12180.0\n",
       "\n",
       "[10 rows x 9 columns]"
      ]
     },
     "execution_count": 31,
     "metadata": {
      "tags": []
     },
     "output_type": "execute_result"
    }
   ],
   "source": [
    "specs = data[data['Месяц']=='2009-01-01'] #Подвыборка доходов всех уникальных специалистов за январь\n",
    "specs[specs['Разряд'].isin(['3', '4'])].sort_values(by=['Профессия']) #Выберем из них специалистов 3 и 4 разряда"
   ]
  },
  {
   "cell_type": "code",
   "execution_count": 32,
   "metadata": {
    "colab": {
     "base_uri": "https://localhost:8080/",
     "height": 0
    },
    "id": "8YEZidyzT7-X",
    "outputId": "be1557cd-4e81-44f1-97c5-e87119e0d804"
   },
   "outputs": [
    {
     "data": {
      "text/plain": [
       "1950.0"
      ]
     },
     "execution_count": 32,
     "metadata": {
      "tags": []
     },
     "output_type": "execute_result"
    }
   ],
   "source": [
    "supplement4 = min(data[data['Специалист']=='Подручный вальцовщика4Пилигримовые станы18']['Доход']) - \n",
    "                 min(data[data['Специалист']=='Подручный вальцовщика3Пилигримовые станы18']['Доход'])\n",
    "supplement4"
   ]
  },
  {
   "cell_type": "markdown",
   "metadata": {
    "id": "f9ug3epQm1PQ"
   },
   "source": [
    "Проанализируем доплаты за разряды, чтобы определить формулу. За каждое повышение разряда предполагается доплата в размере 1950, 2260, 2630, 3040 рублей. А это в свою очередь можно представить как:\n",
    "\n",
    "$$Доплата \\ за \\  4 \\ разряд = 1950 \\\\ Доплата \\ за \\  5 \\ разряд =Доплата \\ за \\  4 \\ разряд +1950+310 \\\\ Доплата \\ за \\  6 \\ разряд =Доплата \\ за \\  5 \\ разряд + 1950+370 \\\\ Доплата \\ за \\  7 \\ разряд =Доплата \\ за \\  6 \\ разряд +1950+410$$\n",
    "\n",
    "Таким образом, общую формулу для расчета доплаты за разряд можно представить как:\n",
    "$$Доплата \\ за \\ i \\ разряд = 1950 \\ *(i-3)+[i>4] \\ *310 \\ * (i-5)+ [i>5] \\ *60 \\  * (i-5) + 40 \\ *[i=7], \\\\\n",
    "где \\ [i>k] = \\begin{equation*}\n",
    " \\begin{cases}\n",
    "   1, i>k \\\\\n",
    "   0, i \\le k\n",
    " \\end{cases}\n",
    "\\end{equation*}\n",
    "$$\n",
    "\n",
    "\\\\\n",
    "Рассмотрим доплаты за вредность. В таблице выше есть два специалиста с разными значениями вредности - Уборщик 0 и 18 баллов. Доплата составляет 3240 рублей, что есть 180 рублей/ балл.\n",
    "$$Доплата \\ за \\  вредность = 180 * балл$$\n",
    "\n",
    "В таком случае получим формулу доплаты:\n",
    "$$ Доплата = Доплата \\ за \\ разряд + Доплата \\ за \\ вредность$$\n",
    "Проверим так ли это на других категорях профессий.\n"
   ]
  },
  {
   "cell_type": "code",
   "execution_count": 33,
   "metadata": {
    "colab": {
     "base_uri": "https://localhost:8080/",
     "height": 269
    },
    "id": "d-FCN8GFE7t5",
    "outputId": "f8e39dcf-ad82-467e-d9b3-7896a2046612"
   },
   "outputs": [
    {
     "name": "stderr",
     "output_type": "stream",
     "text": [
      "/usr/local/lib/python3.7/dist-packages/ipykernel_launcher.py:1: UserWarning: Boolean Series key will be reindexed to match DataFrame index.\n",
      "  \"\"\"Entry point for launching an IPython kernel.\n"
     ]
    },
    {
     "data": {
      "text/html": [
       "<div>\n",
       "<style scoped>\n",
       "    .dataframe tbody tr th:only-of-type {\n",
       "        vertical-align: middle;\n",
       "    }\n",
       "\n",
       "    .dataframe tbody tr th {\n",
       "        vertical-align: top;\n",
       "    }\n",
       "\n",
       "    .dataframe thead th {\n",
       "        text-align: right;\n",
       "    }\n",
       "</style>\n",
       "<table border=\"1\" class=\"dataframe\">\n",
       "  <thead>\n",
       "    <tr style=\"text-align: right;\">\n",
       "      <th></th>\n",
       "      <th>Месяц</th>\n",
       "      <th>Профессия</th>\n",
       "      <th>Разряд</th>\n",
       "      <th>Оборудование</th>\n",
       "      <th>Вредность (балл.)</th>\n",
       "      <th>Объем производства</th>\n",
       "      <th>Доход</th>\n",
       "      <th>Специалист</th>\n",
       "      <th>Оклад</th>\n",
       "    </tr>\n",
       "  </thead>\n",
       "  <tbody>\n",
       "    <tr>\n",
       "      <th>17</th>\n",
       "      <td>2009-01-01</td>\n",
       "      <td>Нагревальщик металла</td>\n",
       "      <td>5</td>\n",
       "      <td>Нагревательные печи, нагрев</td>\n",
       "      <td>22</td>\n",
       "      <td>580</td>\n",
       "      <td>20350.0</td>\n",
       "      <td>Нагревальщик металла5Нагревательные печи, нагр...</td>\n",
       "      <td>12180.0</td>\n",
       "    </tr>\n",
       "    <tr>\n",
       "      <th>16</th>\n",
       "      <td>2009-01-01</td>\n",
       "      <td>Нагревальщик металла</td>\n",
       "      <td>4</td>\n",
       "      <td>Нагревательные печи</td>\n",
       "      <td>22</td>\n",
       "      <td>580</td>\n",
       "      <td>18090.0</td>\n",
       "      <td>Нагревальщик металла4Нагревательные печи22</td>\n",
       "      <td>12180.0</td>\n",
       "    </tr>\n",
       "    <tr>\n",
       "      <th>15</th>\n",
       "      <td>2009-01-01</td>\n",
       "      <td>Нагревальщик металла</td>\n",
       "      <td>5</td>\n",
       "      <td>Нагревательные печи, кантовка</td>\n",
       "      <td>22</td>\n",
       "      <td>580</td>\n",
       "      <td>20350.0</td>\n",
       "      <td>Нагревальщик металла5Нагревательные печи, кант...</td>\n",
       "      <td>12180.0</td>\n",
       "    </tr>\n",
       "    <tr>\n",
       "      <th>13</th>\n",
       "      <td>2009-01-01</td>\n",
       "      <td>Нагревальщик металла</td>\n",
       "      <td>6</td>\n",
       "      <td>Нагревательные печи</td>\n",
       "      <td>22</td>\n",
       "      <td>580</td>\n",
       "      <td>22980.0</td>\n",
       "      <td>Нагревальщик металла6Нагревательные печи22</td>\n",
       "      <td>12180.0</td>\n",
       "    </tr>\n",
       "    <tr>\n",
       "      <th>0</th>\n",
       "      <td>2009-01-01</td>\n",
       "      <td>Нагревальщик металла</td>\n",
       "      <td>7</td>\n",
       "      <td>Нагревательные печи</td>\n",
       "      <td>22</td>\n",
       "      <td>580</td>\n",
       "      <td>26020.0</td>\n",
       "      <td>Нагревальщик металла7Нагревательные печи22</td>\n",
       "      <td>12180.0</td>\n",
       "    </tr>\n",
       "    <tr>\n",
       "      <th>21</th>\n",
       "      <td>2009-01-01</td>\n",
       "      <td>Посадчик металла</td>\n",
       "      <td>4</td>\n",
       "      <td>Нагревательные печи</td>\n",
       "      <td>22</td>\n",
       "      <td>580</td>\n",
       "      <td>18090.0</td>\n",
       "      <td>Посадчик металла4Нагревательные печи22</td>\n",
       "      <td>12180.0</td>\n",
       "    </tr>\n",
       "  </tbody>\n",
       "</table>\n",
       "</div>"
      ],
      "text/plain": [
       "        Месяц  ...    Оклад\n",
       "17 2009-01-01  ...  12180.0\n",
       "16 2009-01-01  ...  12180.0\n",
       "15 2009-01-01  ...  12180.0\n",
       "13 2009-01-01  ...  12180.0\n",
       "0  2009-01-01  ...  12180.0\n",
       "21 2009-01-01  ...  12180.0\n",
       "\n",
       "[6 rows x 9 columns]"
      ]
     },
     "execution_count": 33,
     "metadata": {
      "tags": []
     },
     "output_type": "execute_result"
    }
   ],
   "source": [
    "specs.sort_values(by=['Профессия'])[specs['Вредность (балл.)']==22]"
   ]
  },
  {
   "cell_type": "code",
   "execution_count": 34,
   "metadata": {
    "colab": {
     "base_uri": "https://localhost:8080/",
     "height": 0
    },
    "id": "31S6JmJdKZ-K",
    "outputId": "ce464242-4071-4ca3-9552-cfde65f3f261"
   },
   "outputs": [
    {
     "data": {
      "text/plain": [
       "True"
      ]
     },
     "execution_count": 34,
     "metadata": {
      "tags": []
     },
     "output_type": "execute_result"
    }
   ],
   "source": [
    "specs['Доход'][21]-(1950+22*180) == salary #Вычтем из дохода Посадчика металла доплату за разряд и вредность и сравним с salary"
   ]
  },
  {
   "cell_type": "code",
   "execution_count": 35,
   "metadata": {
    "id": "7yY2upKF2_c4"
   },
   "outputs": [],
   "source": [
    "data['Доплата за вредность'] = data['Вредность (балл.)']*180\n",
    "data['Доплата за разряд'] = np.nan\n",
    "def rate_supplement(data):\n",
    "  for i in range(len(data['Разряд'])):\n",
    "    if data.loc[i,'Разряд'] == '4':\n",
    "      data.loc[i, 'Доплата за разряд'] = 1950\n",
    "    elif data.loc[i,'Разряд'] == '5':\n",
    "      data.loc[i, 'Доплата за разряд'] = 4210\n",
    "    elif data.loc[i,'Разряд'] == '6':\n",
    "      data.loc[i, 'Доплата за разряд'] = 6840\n",
    "    elif data.loc[i,'Разряд'] == '7':\n",
    "      data.loc[i, 'Доплата за разряд'] = 9880\n",
    "    else:\n",
    "      data.loc[i, 'Доплата за разряд'] = 0\n",
    "rate_supplement(data)"
   ]
  },
  {
   "cell_type": "markdown",
   "metadata": {
    "id": "GGXIeKByNMiz"
   },
   "source": [
    "## Премии\n",
    "Для расчета премии рассмотрим зависимость надбавок к доходу в зависимости от превышения объема производства внутри одной категории профессии, чтобы понять, как разряд влияет на премию. Также это позволит определить минимальный объем производства, который необходимо превысить для ее получения.\n"
   ]
  },
  {
   "cell_type": "code",
   "execution_count": 139,
   "metadata": {
    "id": "midyIWraZckf"
   },
   "outputs": [],
   "source": [
    "extras = np.array([])\n",
    "volumes = np.array([])\n",
    "for i in range(len(data['Специалист'].unique())):\n",
    "  subsample = data[data['Специалист']==data['Специалист'].unique()[i]].reset_index(drop=True)\n",
    "  #Для каждого специалиста определим величину премии за 1 единицу объема производства. \n",
    "  #Для этого выберем два значения, которые превышают минимальные значения, так как порог нам неизвестен\n",
    "  extras = np.append(extras,subsample['Доход'][4]-subsample['Доход'][3])\n",
    "  volumes = np.append(volumes,subsample['Объем производства'][4]-subsample['Объем производства'][3])"
   ]
  },
  {
   "cell_type": "code",
   "execution_count": 158,
   "metadata": {
    "colab": {
     "base_uri": "https://localhost:8080/",
     "height": 0
    },
    "id": "jLHwP-8GsyNn",
    "outputId": "c2f7abdb-a1a3-4908-f877-5acf83d9f481"
   },
   "outputs": [
    {
     "data": {
      "text/plain": [
       "array([ 7.16470588,  7.16470588,  8.31176471,  9.64117647, 11.18823529,\n",
       "       12.97647059])"
      ]
     },
     "execution_count": 158,
     "metadata": {
      "tags": []
     },
     "output_type": "execute_result"
    }
   ],
   "source": [
    "extra_pays = extras / volumes\n",
    "np.unique(extra_pays) #Посмотрим, какие уникальные значения принимает величина премии для разных разрядов"
   ]
  },
  {
   "cell_type": "code",
   "execution_count": 149,
   "metadata": {
    "colab": {
     "base_uri": "https://localhost:8080/",
     "height": 0
    },
    "id": "mTsqMQNZtx15",
    "outputId": "353ae0aa-bf69-441f-8d42-878b3bdef502"
   },
   "outputs": [
    {
     "data": {
      "text/plain": [
       "850"
      ]
     },
     "execution_count": 149,
     "metadata": {
      "tags": []
     },
     "output_type": "execute_result"
    }
   ],
   "source": [
    "#Определим значение минимального объема производства для начислении премии:\n",
    "math.floor(subsample['Объем производства'][4]-subsample['Премия'][4]/extra_pays[-1])"
   ]
  },
  {
   "cell_type": "markdown",
   "metadata": {
    "id": "GukfAv8sgAa5"
   },
   "source": [
    "Выплата премии за фиксированное превышение объема производства для 3, 4, 5, 6, и 7 разряда составляет 716.47, 831.18, 964.11, 1118.82 и 1297.65 за 100 единиц соотвественно. Иначе данные выплаты в приближенном значении можно представить как:\n",
    "\n",
    "$$\n",
    "Премия \\ 3 \\ разряда = 716/100 \\ ед. \\\\\n",
    "Премия \\ 4 \\ разряда = (Премия \\ 3 \\ разряда + 103 + 12) / 100 \\ ед. \\\\\n",
    "Премия \\ 5 \\ разряда = (Премия \\ 4 \\ разряда + 103 + 12+18) / 100 \\ ед. \\\\\n",
    "Премия \\ 6 \\ разряда = (Премия \\ 5 \\ разряда + 103 + 12+18+22) / 100 \\ ед. \\\\\n",
    "Премия \\ 7 \\ разряда = (Премия \\ 6 \\ разряда + 103 + 12+18+22+24) / 100 \\ ед. \\\\\n",
    "$$\n",
    "\n",
    "Общая формула для расчета премии:\n",
    "\n",
    "$$\n",
    "Премия \\ i-го \\ разряда =( Премия \\ i-1-го \\ разряда+[i>3]*(103+\\sum_{i=4}^{n}\\delta_i)) *(Объем \\ производства - 850)* *[Объем \\ производства > 850], \\\\\n",
    "где\\ \\delta_i = \\delta_{i-1}+2*(8-i) , \\ \\delta_4 =12 \n",
    "$$\n",
    "\n",
    "Также можно представить в другом виде, подобном для расчета доплаты за разряд:\n",
    "\n",
    "$$\n",
    "Премия \\ 3 \\ разряда = 716/100 \\ ед. \\\\\n",
    "Премия \\ 4 \\ разряда = (716 + 115) / 100 \\ ед. \\\\\n",
    "Премия \\ 5 \\ разряда = (716+115*2+18) / 100 \\ ед. \\\\\n",
    "Премия \\ 6 \\ разряда = (716+115 \\ *3+18 \\ *2+22) / 100 \\ ед. \\\\\n",
    "Премия \\ 7 \\ разряда = (716+115*4+18 \\ *3+22 \\ *2+24) / 100 \\ ед. \\\\\n",
    "$$\n",
    "\n",
    "Общая формула для расчета премии:\n",
    "\n",
    "$$\n",
    "Премия \\ i-го \\ разряда = (716+[i>3]* \\ 115 \\ * \\ (i-3) + [i>4]* \\ 18* \\ (i-4)+[i>5]* \\ 22*(i-5)+[i=7] \\ *\\ 24)* *(Объем \\ производства - 850)*[Объем \\ производства > 850] \\\\\n",
    "$$\n"
   ]
  },
  {
   "cell_type": "code",
   "execution_count": 58,
   "metadata": {
    "id": "rmwiz1Av9fsN"
   },
   "outputs": [],
   "source": [
    "'''\n",
    "Ниже приведен пример расчета в приближенном значении:\n",
    "data['Премия'] = [math.ceil((716 +int(int(data['Разряд'][i])>3)*115*(int(data['Разряд'][i])-3)\n",
    "+int(int(data['Разряд'][i])>4)*18*(int(data['Разряд'][i])-4)+int(int(data['Разряд'][i])>5)*22*(int(data['Разряд'][i])-5)\n",
    "+int(int(data['Разряд'][i])>6)*24)*(data['Объем производства'][i]-850)*(int(data['Объем производства'][i])>850)/100) \n",
    "for i in range(len(data['Разряд']))]\n",
    "'''"
   ]
  },
  {
   "cell_type": "code",
   "execution_count": null,
   "metadata": {
    "id": "lthfx8dI8tdp"
   },
   "outputs": [],
   "source": [
    "extra_pays = np.unique(extra_pays)[1:6]"
   ]
  },
  {
   "cell_type": "code",
   "execution_count": 166,
   "metadata": {
    "id": "P6DMlt4f4crN"
   },
   "outputs": [],
   "source": [
    "data['Премия'] =[int(data['Объем производства'][i]>850)*(data['Объем производства'][i]-850)*\n",
    "                 (int(int(data['Разряд'][i])==3)*extra_pays[0]+int(int(data['Разряд'][i])==4)*extra_pays[1]\n",
    "                +int(int(data['Разряд'][i])==5)*extra_pays[2]+int(int(data['Разряд'][i])==6)*extra_pays[3]\n",
    "                +int(int(data['Разряд'][i])==7)*extra_pays[4])  for i in range(len(data['Разряд']))]"
   ]
  },
  {
   "cell_type": "code",
   "execution_count": 168,
   "metadata": {
    "id": "KS1BJjcXRe3J"
   },
   "outputs": [],
   "source": [
    "data = data.drop('Специалист',axis=1) #Удалим генерированный признак"
   ]
  },
  {
   "cell_type": "code",
   "execution_count": 171,
   "metadata": {
    "colab": {
     "base_uri": "https://localhost:8080/",
     "height": 204
    },
    "id": "gunOqaYJTn2B",
    "outputId": "9a111f96-09c8-493b-b4e8-1e05af44c7fd"
   },
   "outputs": [
    {
     "data": {
      "text/html": [
       "<div>\n",
       "<style scoped>\n",
       "    .dataframe tbody tr th:only-of-type {\n",
       "        vertical-align: middle;\n",
       "    }\n",
       "\n",
       "    .dataframe tbody tr th {\n",
       "        vertical-align: top;\n",
       "    }\n",
       "\n",
       "    .dataframe thead th {\n",
       "        text-align: right;\n",
       "    }\n",
       "</style>\n",
       "<table border=\"1\" class=\"dataframe\">\n",
       "  <thead>\n",
       "    <tr style=\"text-align: right;\">\n",
       "      <th></th>\n",
       "      <th>Месяц</th>\n",
       "      <th>Профессия</th>\n",
       "      <th>Разряд</th>\n",
       "      <th>Оборудование</th>\n",
       "      <th>Вредность (балл.)</th>\n",
       "      <th>Объем производства</th>\n",
       "      <th>Доход</th>\n",
       "      <th>Оклад</th>\n",
       "      <th>Доплата за вредность</th>\n",
       "      <th>Доплата за разряд</th>\n",
       "      <th>Премия</th>\n",
       "    </tr>\n",
       "  </thead>\n",
       "  <tbody>\n",
       "    <tr>\n",
       "      <th>68</th>\n",
       "      <td>2009-04-01</td>\n",
       "      <td>Оператор поста управления</td>\n",
       "      <td>5</td>\n",
       "      <td>Калибровочный стан, ГРП</td>\n",
       "      <td>8</td>\n",
       "      <td>1200</td>\n",
       "      <td>21204.411765</td>\n",
       "      <td>12180.0</td>\n",
       "      <td>1440</td>\n",
       "      <td>4210.0</td>\n",
       "      <td>3374.411765</td>\n",
       "    </tr>\n",
       "    <tr>\n",
       "      <th>194</th>\n",
       "      <td>2009-09-01</td>\n",
       "      <td>Огнеупорщик</td>\n",
       "      <td>4</td>\n",
       "      <td>Нагревательные печи</td>\n",
       "      <td>11</td>\n",
       "      <td>1080</td>\n",
       "      <td>18021.705882</td>\n",
       "      <td>12180.0</td>\n",
       "      <td>1980</td>\n",
       "      <td>1950.0</td>\n",
       "      <td>1911.705882</td>\n",
       "    </tr>\n",
       "    <tr>\n",
       "      <th>82</th>\n",
       "      <td>2009-04-01</td>\n",
       "      <td>Нагревальщик металла</td>\n",
       "      <td>4</td>\n",
       "      <td>Нагревательные печи</td>\n",
       "      <td>22</td>\n",
       "      <td>1200</td>\n",
       "      <td>20999.117647</td>\n",
       "      <td>12180.0</td>\n",
       "      <td>3960</td>\n",
       "      <td>1950.0</td>\n",
       "      <td>2909.117647</td>\n",
       "    </tr>\n",
       "    <tr>\n",
       "      <th>247</th>\n",
       "      <td>2009-12-01</td>\n",
       "      <td>Огнеупорщик</td>\n",
       "      <td>4</td>\n",
       "      <td>Нагревательные печи</td>\n",
       "      <td>11</td>\n",
       "      <td>810</td>\n",
       "      <td>16110.000000</td>\n",
       "      <td>12180.0</td>\n",
       "      <td>1980</td>\n",
       "      <td>1950.0</td>\n",
       "      <td>0.000000</td>\n",
       "    </tr>\n",
       "    <tr>\n",
       "      <th>109</th>\n",
       "      <td>2009-05-01</td>\n",
       "      <td>Вальцовщик</td>\n",
       "      <td>7</td>\n",
       "      <td>Прошивной стан</td>\n",
       "      <td>18</td>\n",
       "      <td>1250</td>\n",
       "      <td>30490.588235</td>\n",
       "      <td>12180.0</td>\n",
       "      <td>3240</td>\n",
       "      <td>9880.0</td>\n",
       "      <td>5190.588235</td>\n",
       "    </tr>\n",
       "  </tbody>\n",
       "</table>\n",
       "</div>"
      ],
      "text/plain": [
       "         Месяц                  Профессия  ... Доплата за разряд       Премия\n",
       "68  2009-04-01  Оператор поста управления  ...            4210.0  3374.411765\n",
       "194 2009-09-01                Огнеупорщик  ...            1950.0  1911.705882\n",
       "82  2009-04-01       Нагревальщик металла  ...            1950.0  2909.117647\n",
       "247 2009-12-01                Огнеупорщик  ...            1950.0     0.000000\n",
       "109 2009-05-01                 Вальцовщик  ...            9880.0  5190.588235\n",
       "\n",
       "[5 rows x 11 columns]"
      ]
     },
     "execution_count": 171,
     "metadata": {
      "tags": []
     },
     "output_type": "execute_result"
    }
   ],
   "source": [
    "#Взглянем на случайную подвыборку, чтобы проверить правильность расчетов:\n",
    "data.to_excel(\"output.xlsx\")\n",
    "data.sample(n=5, random_state=42)"
   ]
  },
  {
   "cell_type": "markdown",
   "metadata": {
    "id": "WGRXEDVjBmBB"
   },
   "source": [
    "# Зависимости между окладом, премией и доплатами\n",
    "\n",
    "1. Так как оклад имеет фиксированный размер у всех профессий, то он независим от величины премии и доплат. Также и в обратную сторону - в формулах зависимости присутствуют лишь изменяющиеся параметры, которые не учитывают величину оклада.\n",
    "2. Доплата за вредность также является независимой величиной, которая зависит лишь от одной переменной.\n",
    "3. Единственной зависимостью, которую стоит отметить, является наличие связей между доплатой за разряд и премией. Во-первых, обе величины возрастают с увеличением разряда. Во-вторых, если обратить внимание на приближенные формулы, обе величины являются с одной стороны --  вычисляемые через рекурсивные формулы, с другой стороны, если взглянуть на формулы аддитивных моделей, то обе выражаются подобным образом через значение разряда, т.е. чем выше разряд, тем больше слагаемых в модели.\n",
    "\n",
    "\n"
   ]
  },
  {
   "cell_type": "markdown",
   "metadata": {
    "id": "uK15BsNOI3zO"
   },
   "source": [
    "# Итоги\n",
    "\n",
    "* Оклад имеет фиксированное значение - 12180.\n",
    "* Доплаты разделяются на 2 вида: за разряд и вредность, зависят от соответствующих величин. Доплата за разряд имеет тип рекурсивной зависимости, доплата за вредность - линейную зависимость от уровня вредности.\n",
    "* Премия имеет линейную зависимость от превышенного от нормы объема производства и разряда.\n",
    "* Оклад и доплата за вредность не связаны с другими величинами, доплата за разряд и премия имеют общие аргументы функции (разряд), а также подобный друг другу вид зависимости."
   ]
  }
 ],
 "metadata": {
  "colab": {
   "collapsed_sections": [],
   "name": "Тестовое задание ЭКОПСИ.ipynb",
   "provenance": [],
   "toc_visible": true
  },
  "kernelspec": {
   "display_name": "Python 3",
   "language": "python",
   "name": "python3"
  },
  "language_info": {
   "codemirror_mode": {
    "name": "ipython",
    "version": 3
   },
   "file_extension": ".py",
   "mimetype": "text/x-python",
   "name": "python",
   "nbconvert_exporter": "python",
   "pygments_lexer": "ipython3",
   "version": "3.8.5"
  }
 },
 "nbformat": 4,
 "nbformat_minor": 1
}